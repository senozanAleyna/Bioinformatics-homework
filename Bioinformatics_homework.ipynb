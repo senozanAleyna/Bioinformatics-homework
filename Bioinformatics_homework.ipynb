{
  "nbformat": 4,
  "nbformat_minor": 0,
  "metadata": {
    "colab": {
      "name": "Bioinformatics homework.ipynb",
      "provenance": [],
      "collapsed_sections": []
    },
    "kernelspec": {
      "name": "python3",
      "display_name": "Python 3"
    },
    "language_info": {
      "name": "python"
    }
  },
  "cells": [
    {
      "cell_type": "markdown",
      "source": [
        "A-TTG-CTT   ACCTGGC-T   ACTA-GCTA   AGTAGCATT\n",
        "For the above sequences;\\\n",
        "a) Calculating entropy,\\\n",
        "b) Calculates the Sum of Pairs score (Edit the sum of the distances of the binary sequences.),\\\n",
        "c) Write the computer program that finds the consensus sequence in Python language.\n",
        "\n",
        "**ENTROPY:** Scores how similar multiple sequences are to each other.\\\n",
        "**SUM OF PAIRS**: It is the sum of the frequency values of the ideal sequence created by the consensus sequence.\\\n",
        "**CONSENSUS SEQUENCE**: Compares the sequences and extracts the frequency profile as a column."
      ],
      "metadata": {
        "id": "SF5l2XKZGSaF"
      }
    },
    {
      "cell_type": "markdown",
      "source": [
        "# **Entropy Calculation**"
      ],
      "metadata": {
        "id": "IjjjYMZBNcBH"
      }
    },
    {
      "cell_type": "markdown",
      "source": [
        "Input row, column, sequence as input."
      ],
      "metadata": {
        "id": "gjANEo_v_f02"
      }
    },
    {
      "cell_type": "code",
      "execution_count": null,
      "metadata": {
        "colab": {
          "base_uri": "https://localhost:8080/"
        },
        "id": "qFHhcHvNBwa_",
        "outputId": "e5070c6c-63be-442c-b346-d3e6e6b3ee00"
      },
      "outputs": [
        {
          "output_type": "stream",
          "name": "stdout",
          "text": [
            "enter no of rows: 3\n",
            "enter no of coloumns: 3\n",
            "A G T A G C A T T\n",
            "[['A' 'G' 'T']\n",
            " ['A' 'G' 'C']\n",
            " ['A' 'T' 'T']]\n"
          ]
        }
      ],
      "source": [
        "\n",
        "import numpy as np\n",
        "import math\n",
        "import pandas as pd\n",
        "\n",
        "row=int(input(\"enter no of rows: \"))\n",
        "col=int(input(\"enter no of coloumns: \"))\n",
        "\n",
        "a=np.array(list(input().strip().split(' '))).reshape(row,col)\n",
        "\n",
        "print(a)"
      ]
    },
    {
      "cell_type": "markdown",
      "source": [
        "Outputs the alphabet used in the sequence."
      ],
      "metadata": {
        "id": "JpPf2Nbd_rY9"
      }
    },
    {
      "cell_type": "code",
      "source": [
        "alfa=[]\n",
        "for i in np.unique(a):\n",
        "  alfa.append(i)\n",
        "\n",
        "alfa"
      ],
      "metadata": {
        "colab": {
          "base_uri": "https://localhost:8080/"
        },
        "id": "zd_o4csMcAfJ",
        "outputId": "6227166e-3a87-4983-eb63-37ef5f835951"
      },
      "execution_count": null,
      "outputs": [
        {
          "output_type": "execute_result",
          "data": {
            "text/plain": [
              "['A', 'C', 'G', 'T']"
            ]
          },
          "metadata": {},
          "execution_count": 12
        }
      ]
    },
    {
      "cell_type": "markdown",
      "source": [
        "Searches for the letters '-', 'a', 'c', 'g', 't' (alphabet) in columns."
      ],
      "metadata": {
        "id": "-6qGGcbT_yNB"
      }
    },
    {
      "cell_type": "code",
      "source": [
        "def pattern_count(stList):\n",
        " freqList = []\n",
        " for symbol in alfa:\n",
        "    ctr = 0\n",
        "    for sym in stList:\n",
        "        if sym == symbol:\n",
        "            ctr += 1\n",
        "    freqList.append(round(float(ctr) / len(stList),2))\n",
        " npa = np.asarray(freqList, dtype=np.float32)\n",
        " return npa"
      ],
      "metadata": {
        "id": "b6YJc_Mhp1P2"
      },
      "execution_count": null,
      "outputs": []
    },
    {
      "cell_type": "markdown",
      "source": [
        "Columns are assigned to the pattern_count function, returning the result to the new matrix.\\\n",
        "**NOTE:** Since letter frequencies are analyzed on a column-by-column basis, it should be noted that *transpose* operation is performed on the entered matrix."
      ],
      "metadata": {
        "id": "ZscWE6OIAJWf"
      }
    },
    {
      "cell_type": "code",
      "source": [
        "b,_a=[],(a.T)\n",
        "for i in range(col):\n",
        "  asdcıktı=pattern_count(_a[i])\n",
        "  b.append(asdcıktı)\n",
        "\n",
        "my_array = np.array(b)\n",
        "my_array "
      ],
      "metadata": {
        "colab": {
          "base_uri": "https://localhost:8080/"
        },
        "id": "hSqNpF-mo9Gu",
        "outputId": "189744f3-05e7-41c0-cf74-d7322bef537f"
      },
      "execution_count": null,
      "outputs": [
        {
          "output_type": "execute_result",
          "data": {
            "text/plain": [
              "array([[1.  , 0.  , 0.  , 0.  ],\n",
              "       [0.  , 0.  , 0.67, 0.33],\n",
              "       [0.  , 0.33, 0.  , 0.67]], dtype=float32)"
            ]
          },
          "metadata": {},
          "execution_count": 14
        }
      ]
    },
    {
      "cell_type": "markdown",
      "source": [
        "**Column entropies:**"
      ],
      "metadata": {
        "id": "pe7f4-_-ARRP"
      }
    },
    {
      "cell_type": "markdown",
      "source": [
        "![aa.PNG](data:image/png;base64,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)"
      ],
      "metadata": {
        "id": "YdKW2P8-SrMq"
      }
    },
    {
      "cell_type": "code",
      "source": [
        "entropi=0\n",
        "for i in range(row):\n",
        "  for j in range(col):\n",
        "    entropi=entropi+ (my_array[i][j])*math.log1p(my_array[i][j])\n",
        "  print(f\"Column {i}: {entropi}\")"
      ],
      "metadata": {
        "colab": {
          "base_uri": "https://localhost:8080/"
        },
        "id": "1SN-q-Os02_y",
        "outputId": "ffea26ff-a5ae-4dbf-a5a9-5c6dec3c320f"
      },
      "execution_count": null,
      "outputs": [
        {
          "output_type": "stream",
          "name": "stdout",
          "text": [
            "Column 0: 0.6931471805599453\n",
            "Column 1: 1.0367390255215252\n",
            "Column 2: 1.1308480834517984\n"
          ]
        }
      ]
    },
    {
      "cell_type": "markdown",
      "source": [
        "# **Consensus Sequence and Sum of Pairs**\n",
        "In molecular biology and bioinformatics, the consensus sequence is the calculated order of the most frequent residues, such as the nucleotide or amino acid, at each position in a sequence alignment. In the ideal sequence created, edit gives the distance sum of the binary sequences."
      ],
      "metadata": {
        "id": "CCMICJchPWSG"
      }
    },
    {
      "cell_type": "code",
      "source": [
        "seqList = [\"A-TTG-CTT\", \"ACCTGGC-T\",\"ACTA-GCTA\",\"AGTAGCATT\"]\n",
        "n = len(seqList[0])\n",
        "profile = { 'T':[0]*n,'G':[0]*n ,'C':[0]*n,'A':[0]*n,'-':[0]*n } #holds letters of the alphabet and repeat numbers\n",
        "lm=[] #list for sum of pairs \n",
        "for seq in seqList:\n",
        "    for i, char in enumerate(seq):\n",
        "        profile[char][i] += 1 #sequences are profiled\n",
        "consensus = \"\"\n",
        "print(\"Consensus Sequence: \")\n",
        "for i in range(n):\n",
        "    max_count = 0\n",
        "    max_nt = 'x'\n",
        "    for nt in \"ACGT-\":\n",
        "        if profile[nt][i] > max_count:#finds the alphabet that takes the max value\n",
        "            max_count = profile[nt][i]\n",
        "            max_nt = nt\n",
        "    lm.append(max_count) #adds max values in columns\n",
        "    consensus += max_nt\n",
        "print(consensus) #The ideal sequence created with the highest score\n",
        "print(\"\\nProfile:\")\n",
        "for key, value in profile.items(): #It gets the max value values by hovering over the items of the dict type\n",
        "     print(key,':', \" \".join([str(x) for x in value] ))\n",
        "\n"
      ],
      "metadata": {
        "colab": {
          "base_uri": "https://localhost:8080/"
        },
        "id": "0suV1FykEWm7",
        "outputId": "4ad5197e-5458-46a7-e271-3e19d315e36a"
      },
      "execution_count": null,
      "outputs": [
        {
          "output_type": "stream",
          "name": "stdout",
          "text": [
            "Consensus Sequence: \n",
            "ACTAGGCTT\n",
            "\n",
            "Profile:\n",
            "T : 0 0 3 2 0 0 0 3 3\n",
            "G : 0 1 0 0 3 2 0 0 0\n",
            "C : 0 2 1 0 0 1 3 0 0\n",
            "A : 4 0 0 2 0 0 1 0 1\n",
            "- : 0 1 0 0 1 1 0 1 0\n"
          ]
        }
      ]
    },
    {
      "cell_type": "code",
      "source": [
        "lm "
      ],
      "metadata": {
        "colab": {
          "base_uri": "https://localhost:8080/"
        },
        "id": "4gGV2Qe2LNht",
        "outputId": "182f71ba-8783-4d64-e9ef-4b057982f21f"
      },
      "execution_count": null,
      "outputs": [
        {
          "output_type": "execute_result",
          "data": {
            "text/plain": [
              "[4, 2, 3, 2, 3, 2, 3, 3, 3]"
            ]
          },
          "metadata": {},
          "execution_count": 71
        }
      ]
    },
    {
      "cell_type": "code",
      "source": [
        "sum(lm) #Sum of Pairs"
      ],
      "metadata": {
        "colab": {
          "base_uri": "https://localhost:8080/"
        },
        "id": "3TpFmJA5NIrl",
        "outputId": "ddc3b974-1924-4abe-d4c2-c49df3803fe8"
      },
      "execution_count": null,
      "outputs": [
        {
          "output_type": "execute_result",
          "data": {
            "text/plain": [
              "25"
            ]
          },
          "metadata": {},
          "execution_count": 72
        }
      ]
    }
  ]
}